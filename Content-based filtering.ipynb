{
 "cells": [
  {
   "cell_type": "code",
   "execution_count": 5,
   "metadata": {},
   "outputs": [],
   "source": [
    "import pandas as pd\n",
    "from rake_nltk import Rake\n"
   ]
  },
  {
   "cell_type": "code",
   "execution_count": 6,
   "metadata": {},
   "outputs": [],
   "source": [
    "dataset = pd.DataFrame(data)"
   ]
  },
  {
   "cell_type": "code",
   "execution_count": 1,
   "metadata": {},
   "outputs": [],
   "source": [
    "data = [{\"title\":\"무한도전\",\"section\":\"예능\", \"director\":\"김태호\", \n",
    "         \"cast\":\"정준하, 유재석, 박명수, 양세형, 하하, 조세호, 황광희\"},\n",
    "       {\"title\":\"런닝맨\",\"section\":\"예능\", \"director\":\"고동완\", \n",
    "         \"cast\":\"양세찬, 이유리, 홍종현, 하하, 정유미, 송지효, 유재석, 지석진, 김종국, 승리, 전소민, 이광수, 민아, 지민\"},\n",
    "        {\"title\":\"스카이캐슬\", \"section\":\"드라마\", \"director\":\"조현탁\",\n",
    "         \"cast\":\"염정아, 정준호, 이태란, 최원영, 윤세아, 김병철, 오나라, 조재윤, 김서형\"},\n",
    "        {\"title\":\"해피투게더\",\"section\":\"예능\",\"director\":\"신미진\", \"cast\":\"전현무, 제아, 김광규, 박명수, 유재석, 양배추, 돈스파이크, 치타, 민규/세븐틴, 청하\"},\n",
    "        {\"title\":\"나혼자 산다\",\"section\":\"예능\",\"director\":\"김구산\", \"cast\":\"한혜진, 전현무, 박나래, 이시언, 기안84, 헨리\"},\n",
    "        {\"title\":\"윤식당\", \"section\":\"예능\", \"director\":\"나영석\", \"cast\":\"윤여정, 이서진, 정유미, 박서준\"},\n",
    "        {\"title\":\"꽃보다 할배\", \"section\":\"예능\", \"director\":\"나영석\", \"cast\":\"이순재, 이서진, 신구, 박근형, 백일섭, 김용건\"}\n",
    "       ]"
   ]
  },
  {
   "cell_type": "code",
   "execution_count": 12,
   "metadata": {},
   "outputs": [
    {
     "data": {
      "text/html": [
       "<div>\n",
       "<style>\n",
       "    .dataframe thead tr:only-child th {\n",
       "        text-align: right;\n",
       "    }\n",
       "\n",
       "    .dataframe thead th {\n",
       "        text-align: left;\n",
       "    }\n",
       "\n",
       "    .dataframe tbody tr th {\n",
       "        vertical-align: top;\n",
       "    }\n",
       "</style>\n",
       "<table border=\"1\" class=\"dataframe\">\n",
       "  <thead>\n",
       "    <tr style=\"text-align: right;\">\n",
       "      <th></th>\n",
       "      <th>cast</th>\n",
       "      <th>director</th>\n",
       "      <th>section</th>\n",
       "      <th>title</th>\n",
       "      <th>keywords</th>\n",
       "    </tr>\n",
       "  </thead>\n",
       "  <tbody>\n",
       "    <tr>\n",
       "      <th>0</th>\n",
       "      <td>정준하, 유재석, 박명수, 양세형, 하하, 조세호, 황광희</td>\n",
       "      <td>김태호</td>\n",
       "      <td>예능</td>\n",
       "      <td>무한도전</td>\n",
       "      <td></td>\n",
       "    </tr>\n",
       "    <tr>\n",
       "      <th>1</th>\n",
       "      <td>양세찬, 이유리, 홍종현, 하하, 정유미, 송지효, 유재석, 지석진, 김종국, 승리...</td>\n",
       "      <td>고동완</td>\n",
       "      <td>예능</td>\n",
       "      <td>런닝맨</td>\n",
       "      <td></td>\n",
       "    </tr>\n",
       "    <tr>\n",
       "      <th>2</th>\n",
       "      <td>염정아, 정준호, 이태란, 최원영, 윤세아, 김병철, 오나라, 조재윤, 김서형</td>\n",
       "      <td>조현탁</td>\n",
       "      <td>드라마</td>\n",
       "      <td>스카이캐슬</td>\n",
       "      <td></td>\n",
       "    </tr>\n",
       "    <tr>\n",
       "      <th>3</th>\n",
       "      <td>전현무, 제아, 김광규, 박명수, 유재석, 양배추, 돈스파이크, 치타, 민규/세븐틴...</td>\n",
       "      <td>신미진</td>\n",
       "      <td>예능</td>\n",
       "      <td>해피투게더</td>\n",
       "      <td></td>\n",
       "    </tr>\n",
       "    <tr>\n",
       "      <th>4</th>\n",
       "      <td>한혜진, 전현무, 박나래, 이시언, 기안84, 헨리</td>\n",
       "      <td>김구산</td>\n",
       "      <td>예능</td>\n",
       "      <td>나혼자 산다</td>\n",
       "      <td></td>\n",
       "    </tr>\n",
       "    <tr>\n",
       "      <th>5</th>\n",
       "      <td>윤여정, 이서진, 정유미, 박서준</td>\n",
       "      <td>나영석</td>\n",
       "      <td>예능</td>\n",
       "      <td>윤식당</td>\n",
       "      <td></td>\n",
       "    </tr>\n",
       "    <tr>\n",
       "      <th>6</th>\n",
       "      <td>이순재, 이서진, 신구, 박근형, 백일섭, 김용건</td>\n",
       "      <td>나영석</td>\n",
       "      <td>예능</td>\n",
       "      <td>꽃보다 할배</td>\n",
       "      <td></td>\n",
       "    </tr>\n",
       "  </tbody>\n",
       "</table>\n",
       "</div>"
      ],
      "text/plain": [
       "                                                cast director section   title  \\\n",
       "0                   정준하, 유재석, 박명수, 양세형, 하하, 조세호, 황광희      김태호      예능    무한도전   \n",
       "1  양세찬, 이유리, 홍종현, 하하, 정유미, 송지효, 유재석, 지석진, 김종국, 승리...      고동완      예능     런닝맨   \n",
       "2        염정아, 정준호, 이태란, 최원영, 윤세아, 김병철, 오나라, 조재윤, 김서형      조현탁     드라마   스카이캐슬   \n",
       "3  전현무, 제아, 김광규, 박명수, 유재석, 양배추, 돈스파이크, 치타, 민규/세븐틴...      신미진      예능   해피투게더   \n",
       "4                       한혜진, 전현무, 박나래, 이시언, 기안84, 헨리      김구산      예능  나혼자 산다   \n",
       "5                                 윤여정, 이서진, 정유미, 박서준      나영석      예능     윤식당   \n",
       "6                        이순재, 이서진, 신구, 박근형, 백일섭, 김용건      나영석      예능  꽃보다 할배   \n",
       "\n",
       "  keywords  \n",
       "0           \n",
       "1           \n",
       "2           \n",
       "3           \n",
       "4           \n",
       "5           \n",
       "6           "
      ]
     },
     "execution_count": 12,
     "metadata": {},
     "output_type": "execute_result"
    }
   ],
   "source": [
    "dataset.head(7)"
   ]
  },
  {
   "cell_type": "code",
   "execution_count": 7,
   "metadata": {},
   "outputs": [
    {
     "data": {
      "text/plain": [
       "cast        object\n",
       "director    object\n",
       "section     object\n",
       "title       object\n",
       "dtype: object"
      ]
     },
     "execution_count": 7,
     "metadata": {},
     "output_type": "execute_result"
    }
   ],
   "source": [
    "dataset.dtypes"
   ]
  },
  {
   "cell_type": "code",
   "execution_count": 11,
   "metadata": {},
   "outputs": [],
   "source": [
    "dataset['keywords'] = \"\""
   ]
  },
  {
   "cell_type": "code",
   "execution_count": 13,
   "metadata": {},
   "outputs": [
    {
     "data": {
      "text/html": [
       "<div>\n",
       "<style>\n",
       "    .dataframe thead tr:only-child th {\n",
       "        text-align: right;\n",
       "    }\n",
       "\n",
       "    .dataframe thead th {\n",
       "        text-align: left;\n",
       "    }\n",
       "\n",
       "    .dataframe tbody tr th {\n",
       "        vertical-align: top;\n",
       "    }\n",
       "</style>\n",
       "<table border=\"1\" class=\"dataframe\">\n",
       "  <thead>\n",
       "    <tr style=\"text-align: right;\">\n",
       "      <th></th>\n",
       "      <th>cast</th>\n",
       "      <th>director</th>\n",
       "      <th>section</th>\n",
       "      <th>title</th>\n",
       "      <th>keywords</th>\n",
       "    </tr>\n",
       "  </thead>\n",
       "  <tbody>\n",
       "    <tr>\n",
       "      <th>0</th>\n",
       "      <td>정준하, 유재석, 박명수, 양세형, 하하, 조세호, 황광희</td>\n",
       "      <td>김태호</td>\n",
       "      <td>예능</td>\n",
       "      <td>무한도전</td>\n",
       "      <td>[조세호, 박명수, 하하, 황광희, 양세형, 유재석, 정준하, 예능, 김태호]</td>\n",
       "    </tr>\n",
       "    <tr>\n",
       "      <th>1</th>\n",
       "      <td>양세찬, 이유리, 홍종현, 하하, 정유미, 송지효, 유재석, 지석진, 김종국, 승리...</td>\n",
       "      <td>고동완</td>\n",
       "      <td>예능</td>\n",
       "      <td>런닝맨</td>\n",
       "      <td>[지민, 송지효, 양세찬, 정유미, 김종국, 이유리, 승리, 이광수, 하하, 전소민...</td>\n",
       "    </tr>\n",
       "    <tr>\n",
       "      <th>2</th>\n",
       "      <td>염정아, 정준호, 이태란, 최원영, 윤세아, 김병철, 오나라, 조재윤, 김서형</td>\n",
       "      <td>조현탁</td>\n",
       "      <td>드라마</td>\n",
       "      <td>스카이캐슬</td>\n",
       "      <td>[김서형, 염정아, 조재윤, 이태란, 윤세아, 오나라, 김병철, 최원영, 정준호, ...</td>\n",
       "    </tr>\n",
       "    <tr>\n",
       "      <th>3</th>\n",
       "      <td>전현무, 제아, 김광규, 박명수, 유재석, 양배추, 돈스파이크, 치타, 민규/세븐틴...</td>\n",
       "      <td>신미진</td>\n",
       "      <td>예능</td>\n",
       "      <td>해피투게더</td>\n",
       "      <td>[청하, 박명수, 전현무, 치타, 양배추, 민규, 제아, 세븐틴, 유재석, 김광규,...</td>\n",
       "    </tr>\n",
       "    <tr>\n",
       "      <th>4</th>\n",
       "      <td>한혜진, 전현무, 박나래, 이시언, 기안84, 헨리</td>\n",
       "      <td>김구산</td>\n",
       "      <td>예능</td>\n",
       "      <td>나혼자 산다</td>\n",
       "      <td>[기안84, 전현무, 이시언, 헨리, 박나래, 한혜진, 예능, 김구산]</td>\n",
       "    </tr>\n",
       "    <tr>\n",
       "      <th>5</th>\n",
       "      <td>윤여정, 이서진, 정유미, 박서준</td>\n",
       "      <td>나영석</td>\n",
       "      <td>예능</td>\n",
       "      <td>윤식당</td>\n",
       "      <td>[윤여정, 이서진, 박서준, 정유미, 예능, 나영석]</td>\n",
       "    </tr>\n",
       "    <tr>\n",
       "      <th>6</th>\n",
       "      <td>이순재, 이서진, 신구, 박근형, 백일섭, 김용건</td>\n",
       "      <td>나영석</td>\n",
       "      <td>예능</td>\n",
       "      <td>꽃보다 할배</td>\n",
       "      <td>[김용건, 박근형, 신구, 백일섭, 이서진, 이순재, 예능, 나영석]</td>\n",
       "    </tr>\n",
       "  </tbody>\n",
       "</table>\n",
       "</div>"
      ],
      "text/plain": [
       "                                                cast director section   title  \\\n",
       "0                   정준하, 유재석, 박명수, 양세형, 하하, 조세호, 황광희      김태호      예능    무한도전   \n",
       "1  양세찬, 이유리, 홍종현, 하하, 정유미, 송지효, 유재석, 지석진, 김종국, 승리...      고동완      예능     런닝맨   \n",
       "2        염정아, 정준호, 이태란, 최원영, 윤세아, 김병철, 오나라, 조재윤, 김서형      조현탁     드라마   스카이캐슬   \n",
       "3  전현무, 제아, 김광규, 박명수, 유재석, 양배추, 돈스파이크, 치타, 민규/세븐틴...      신미진      예능   해피투게더   \n",
       "4                       한혜진, 전현무, 박나래, 이시언, 기안84, 헨리      김구산      예능  나혼자 산다   \n",
       "5                                 윤여정, 이서진, 정유미, 박서준      나영석      예능     윤식당   \n",
       "6                        이순재, 이서진, 신구, 박근형, 백일섭, 김용건      나영석      예능  꽃보다 할배   \n",
       "\n",
       "                                            keywords  \n",
       "0        [조세호, 박명수, 하하, 황광희, 양세형, 유재석, 정준하, 예능, 김태호]  \n",
       "1  [지민, 송지효, 양세찬, 정유미, 김종국, 이유리, 승리, 이광수, 하하, 전소민...  \n",
       "2  [김서형, 염정아, 조재윤, 이태란, 윤세아, 오나라, 김병철, 최원영, 정준호, ...  \n",
       "3  [청하, 박명수, 전현무, 치타, 양배추, 민규, 제아, 세븐틴, 유재석, 김광규,...  \n",
       "4            [기안84, 전현무, 이시언, 헨리, 박나래, 한혜진, 예능, 김구산]  \n",
       "5                      [윤여정, 이서진, 박서준, 정유미, 예능, 나영석]  \n",
       "6             [김용건, 박근형, 신구, 백일섭, 이서진, 이순재, 예능, 나영석]  "
      ]
     },
     "execution_count": 13,
     "metadata": {},
     "output_type": "execute_result"
    }
   ],
   "source": [
    "for index,row in dataset.iterrows():\n",
    "    cast = row['cast']\n",
    "    section = row['section']\n",
    "    director = row['director']\n",
    "    r = Rake()\n",
    "    \n",
    "    r.extract_keywords_from_text(cast)\n",
    "    key_words_dict_scores = r.get_word_degrees()\n",
    "    row['keywords'] = list(key_words_dict_scores.keys())\n",
    "    \n",
    "    r.extract_keywords_from_text(section)\n",
    "    key_words_dict_scores = r.get_word_degrees()\n",
    "    row['keywords'] += list(key_words_dict_scores.keys())\n",
    "    \n",
    "    r.extract_keywords_from_text(director)\n",
    "    key_words_dict_scores = r.get_word_degrees()\n",
    "    row['keywords'] += list(key_words_dict_scores.keys())\n",
    "    \n",
    "dataset.head(7)"
   ]
  },
  {
   "cell_type": "code",
   "execution_count": 108,
   "metadata": {},
   "outputs": [
    {
     "data": {
      "text/html": [
       "<div>\n",
       "<style>\n",
       "    .dataframe thead tr:only-child th {\n",
       "        text-align: right;\n",
       "    }\n",
       "\n",
       "    .dataframe thead th {\n",
       "        text-align: left;\n",
       "    }\n",
       "\n",
       "    .dataframe tbody tr th {\n",
       "        vertical-align: top;\n",
       "    }\n",
       "</style>\n",
       "<table border=\"1\" class=\"dataframe\">\n",
       "  <thead>\n",
       "    <tr style=\"text-align: right;\">\n",
       "      <th></th>\n",
       "      <th>title</th>\n",
       "      <th>keywords</th>\n",
       "    </tr>\n",
       "  </thead>\n",
       "  <tbody>\n",
       "    <tr>\n",
       "      <th>0</th>\n",
       "      <td>무한도전</td>\n",
       "      <td>[양세형, 박명수, 정준하, 조세호, 유재석, 황광희, 하하, 예능, 김태호]</td>\n",
       "    </tr>\n",
       "    <tr>\n",
       "      <th>1</th>\n",
       "      <td>런닝맨</td>\n",
       "      <td>[정유미, 이유리, 송지효, 승리, 양세찬, 김종국, 지민, 지석진, 민아, 홍종현...</td>\n",
       "    </tr>\n",
       "    <tr>\n",
       "      <th>2</th>\n",
       "      <td>스카이캐슬</td>\n",
       "      <td>[김병철, 오나라, 윤세아, 김서형, 조재윤, 정준호, 염정아, 이태란, 최원영, ...</td>\n",
       "    </tr>\n",
       "    <tr>\n",
       "      <th>3</th>\n",
       "      <td>해피투게더</td>\n",
       "      <td>[박명수, 제아, 치타, 돈스파이크, 세븐틴, 유재석, 김광규, 전현무, 양배추, ...</td>\n",
       "    </tr>\n",
       "    <tr>\n",
       "      <th>4</th>\n",
       "      <td>나혼자 산다</td>\n",
       "      <td>[기안84, 박나래, 이시언, 한혜진, 전현무, 헨리, 예능, 김구산]</td>\n",
       "    </tr>\n",
       "    <tr>\n",
       "      <th>5</th>\n",
       "      <td>윤식당</td>\n",
       "      <td>[윤여정, 박서준, 정유미, 이서진, 예능, 나영석]</td>\n",
       "    </tr>\n",
       "    <tr>\n",
       "      <th>6</th>\n",
       "      <td>꽃보다 할배</td>\n",
       "      <td>[신구, 박근형, 김용건, 이순재, 백일섭, 이서진, 예능, 나영석]</td>\n",
       "    </tr>\n",
       "  </tbody>\n",
       "</table>\n",
       "</div>"
      ],
      "text/plain": [
       "    title                                           keywords\n",
       "0    무한도전        [양세형, 박명수, 정준하, 조세호, 유재석, 황광희, 하하, 예능, 김태호]\n",
       "1     런닝맨  [정유미, 이유리, 송지효, 승리, 양세찬, 김종국, 지민, 지석진, 민아, 홍종현...\n",
       "2   스카이캐슬  [김병철, 오나라, 윤세아, 김서형, 조재윤, 정준호, 염정아, 이태란, 최원영, ...\n",
       "3   해피투게더  [박명수, 제아, 치타, 돈스파이크, 세븐틴, 유재석, 김광규, 전현무, 양배추, ...\n",
       "4  나혼자 산다            [기안84, 박나래, 이시언, 한혜진, 전현무, 헨리, 예능, 김구산]\n",
       "5     윤식당                      [윤여정, 박서준, 정유미, 이서진, 예능, 나영석]\n",
       "6  꽃보다 할배             [신구, 박근형, 김용건, 이순재, 백일섭, 이서진, 예능, 나영석]"
      ]
     },
     "execution_count": 108,
     "metadata": {},
     "output_type": "execute_result"
    }
   ],
   "source": [
    "dataset.drop(['cast', 'director', 'section'], axis = 1)"
   ]
  },
  {
   "cell_type": "code",
   "execution_count": 109,
   "metadata": {},
   "outputs": [],
   "source": [
    "dataset['bag_of_words'] = \"\"\n",
    "for index,row in dataset.iterrows():\n",
    "    keywords = row['keywords']\n",
    "    for keyword in keywords:\n",
    "        keyword += \" \"\n",
    "        row['bag_of_words'] += keyword\n",
    "    "
   ]
  },
  {
   "cell_type": "code",
   "execution_count": 120,
   "metadata": {},
   "outputs": [
    {
     "data": {
      "text/plain": [
       "58"
      ]
     },
     "execution_count": 120,
     "metadata": {},
     "output_type": "execute_result"
    }
   ],
   "source": [
    "len(count.get_feature_names())"
   ]
  },
  {
   "cell_type": "code",
   "execution_count": 118,
   "metadata": {},
   "outputs": [
    {
     "data": {
      "text/plain": [
       "array([[0, 0, 0, 0, 0, 0, 0, 0, 1, 0, 0, 0, 0, 0, 0, 0, 1, 0, 0, 0, 0, 0,\n",
       "        0, 0, 0, 0, 1, 0, 1, 0, 1, 0, 0, 0, 0, 0, 0, 0, 0, 0, 0, 0, 1, 0,\n",
       "        0, 1, 0, 0, 0, 0, 0, 0, 0, 1, 0, 0, 0, 1],\n",
       "       [1, 0, 0, 0, 0, 0, 0, 1, 0, 0, 0, 0, 0, 1, 0, 0, 0, 0, 0, 0, 1, 1,\n",
       "        0, 0, 0, 1, 0, 0, 1, 0, 1, 0, 0, 1, 0, 0, 0, 1, 0, 1, 0, 1, 0, 0,\n",
       "        0, 0, 0, 0, 1, 1, 0, 0, 0, 1, 0, 0, 1, 0],\n",
       "       [0, 0, 0, 0, 1, 1, 0, 0, 0, 0, 0, 1, 0, 0, 0, 0, 0, 0, 0, 0, 0, 0,\n",
       "        0, 0, 0, 0, 0, 1, 0, 1, 0, 1, 0, 0, 0, 0, 0, 0, 1, 0, 0, 0, 0, 1,\n",
       "        0, 0, 1, 1, 0, 0, 0, 1, 0, 0, 0, 0, 0, 0],\n",
       "       [0, 0, 1, 0, 0, 0, 0, 0, 0, 0, 1, 0, 1, 0, 0, 0, 1, 0, 0, 1, 0, 0,\n",
       "        0, 1, 1, 0, 0, 0, 1, 0, 1, 0, 0, 0, 0, 0, 0, 0, 0, 0, 1, 0, 0, 0,\n",
       "        1, 0, 0, 0, 0, 0, 1, 0, 1, 0, 0, 0, 0, 0],\n",
       "       [0, 1, 0, 1, 0, 0, 0, 0, 0, 0, 0, 0, 0, 0, 0, 1, 0, 0, 0, 0, 0, 0,\n",
       "        0, 0, 0, 0, 0, 0, 1, 0, 0, 0, 0, 0, 0, 0, 1, 0, 0, 0, 1, 0, 0, 0,\n",
       "        0, 0, 0, 0, 0, 0, 0, 0, 0, 0, 1, 1, 0, 0],\n",
       "       [0, 0, 0, 0, 0, 0, 0, 0, 0, 1, 0, 0, 0, 0, 0, 0, 0, 1, 0, 0, 0, 0,\n",
       "        0, 0, 0, 0, 0, 0, 1, 0, 0, 0, 1, 0, 1, 0, 0, 0, 0, 0, 0, 1, 0, 0,\n",
       "        0, 0, 0, 0, 0, 0, 0, 0, 0, 0, 0, 0, 0, 0],\n",
       "       [0, 0, 0, 0, 0, 0, 1, 0, 0, 1, 0, 0, 0, 0, 1, 0, 0, 0, 1, 0, 0, 0,\n",
       "        1, 0, 0, 0, 0, 0, 1, 0, 0, 0, 0, 0, 1, 1, 0, 0, 0, 0, 0, 0, 0, 0,\n",
       "        0, 0, 0, 0, 0, 0, 0, 0, 0, 0, 0, 0, 0, 0]], dtype=int64)"
      ]
     },
     "execution_count": 118,
     "metadata": {},
     "output_type": "execute_result"
    }
   ],
   "source": [
    "count_matrix.toarray()"
   ]
  },
  {
   "cell_type": "code",
   "execution_count": 114,
   "metadata": {},
   "outputs": [
    {
     "data": {
      "text/html": [
       "<div>\n",
       "<style>\n",
       "    .dataframe thead tr:only-child th {\n",
       "        text-align: right;\n",
       "    }\n",
       "\n",
       "    .dataframe thead th {\n",
       "        text-align: left;\n",
       "    }\n",
       "\n",
       "    .dataframe tbody tr th {\n",
       "        vertical-align: top;\n",
       "    }\n",
       "</style>\n",
       "<table border=\"1\" class=\"dataframe\">\n",
       "  <thead>\n",
       "    <tr style=\"text-align: right;\">\n",
       "      <th></th>\n",
       "      <th>title</th>\n",
       "      <th>bag_of_words</th>\n",
       "    </tr>\n",
       "  </thead>\n",
       "  <tbody>\n",
       "    <tr>\n",
       "      <th>0</th>\n",
       "      <td>무한도전</td>\n",
       "      <td>양세형 박명수 정준하 조세호 유재석 황광희 하하 예능 김태호</td>\n",
       "    </tr>\n",
       "    <tr>\n",
       "      <th>1</th>\n",
       "      <td>런닝맨</td>\n",
       "      <td>정유미 이유리 송지효 승리 양세찬 김종국 지민 지석진 민아 홍종현 유재석 이광수 전...</td>\n",
       "    </tr>\n",
       "    <tr>\n",
       "      <th>2</th>\n",
       "      <td>스카이캐슬</td>\n",
       "      <td>김병철 오나라 윤세아 김서형 조재윤 정준호 염정아 이태란 최원영 드라마 조현탁</td>\n",
       "    </tr>\n",
       "    <tr>\n",
       "      <th>3</th>\n",
       "      <td>해피투게더</td>\n",
       "      <td>박명수 제아 치타 돈스파이크 세븐틴 유재석 김광규 전현무 양배추 민규 청하 예능 신미진</td>\n",
       "    </tr>\n",
       "    <tr>\n",
       "      <th>4</th>\n",
       "      <td>나혼자 산다</td>\n",
       "      <td>기안84 박나래 이시언 한혜진 전현무 헨리 예능 김구산</td>\n",
       "    </tr>\n",
       "    <tr>\n",
       "      <th>5</th>\n",
       "      <td>윤식당</td>\n",
       "      <td>윤여정 박서준 정유미 이서진 예능 나영석</td>\n",
       "    </tr>\n",
       "    <tr>\n",
       "      <th>6</th>\n",
       "      <td>꽃보다 할배</td>\n",
       "      <td>신구 박근형 김용건 이순재 백일섭 이서진 예능 나영석</td>\n",
       "    </tr>\n",
       "  </tbody>\n",
       "</table>\n",
       "</div>"
      ],
      "text/plain": [
       "    title                                       bag_of_words\n",
       "0    무한도전                 양세형 박명수 정준하 조세호 유재석 황광희 하하 예능 김태호 \n",
       "1     런닝맨  정유미 이유리 송지효 승리 양세찬 김종국 지민 지석진 민아 홍종현 유재석 이광수 전...\n",
       "2   스카이캐슬       김병철 오나라 윤세아 김서형 조재윤 정준호 염정아 이태란 최원영 드라마 조현탁 \n",
       "3   해피투게더  박명수 제아 치타 돈스파이크 세븐틴 유재석 김광규 전현무 양배추 민규 청하 예능 신미진 \n",
       "4  나혼자 산다                    기안84 박나래 이시언 한혜진 전현무 헨리 예능 김구산 \n",
       "5     윤식당                            윤여정 박서준 정유미 이서진 예능 나영석 \n",
       "6  꽃보다 할배                     신구 박근형 김용건 이순재 백일섭 이서진 예능 나영석 "
      ]
     },
     "execution_count": 114,
     "metadata": {},
     "output_type": "execute_result"
    }
   ],
   "source": [
    "dataset.drop(['cast', 'director', 'section', 'keywords'], axis = 1)"
   ]
  },
  {
   "cell_type": "code",
   "execution_count": 140,
   "metadata": {},
   "outputs": [
    {
     "name": "stdout",
     "output_type": "stream",
     "text": [
      "['고동완', '기안84', '김광규', '김구산', '김병철', '김서형', '김용건', '김종국', '김태호', '나영석', '돈스파이크', '드라마', '민규', '민아', '박근형', '박나래', '박명수', '박서준', '백일섭', '세븐틴', '송지효', '승리', '신구', '신미진', '양배추', '양세찬', '양세형', '염정아', '예능', '오나라', '유재석', '윤세아', '윤여정', '이광수', '이서진', '이순재', '이시언', '이유리', '이태란', '전소민', '전현무', '정유미', '정준하', '정준호', '제아', '조세호', '조재윤', '조현탁', '지민', '지석진', '청하', '최원영', '치타', '하하', '한혜진', '헨리', '홍종현', '황광희']\n"
     ]
    },
    {
     "data": {
      "text/plain": [
       "array([[0, 0, 0, 0, 0, 0, 0, 0, 1, 0, 0, 0, 0, 0, 0, 0, 1, 0, 0, 0, 0, 0,\n",
       "        0, 0, 0, 0, 1, 0, 1, 0, 1, 0, 0, 0, 0, 0, 0, 0, 0, 0, 0, 0, 1, 0,\n",
       "        0, 1, 0, 0, 0, 0, 0, 0, 0, 1, 0, 0, 0, 1],\n",
       "       [1, 0, 0, 0, 0, 0, 0, 1, 0, 0, 0, 0, 0, 1, 0, 0, 0, 0, 0, 0, 1, 1,\n",
       "        0, 0, 0, 1, 0, 0, 1, 0, 1, 0, 0, 1, 0, 0, 0, 1, 0, 1, 0, 1, 0, 0,\n",
       "        0, 0, 0, 0, 1, 1, 0, 0, 0, 1, 0, 0, 1, 0],\n",
       "       [0, 0, 0, 0, 1, 1, 0, 0, 0, 0, 0, 1, 0, 0, 0, 0, 0, 0, 0, 0, 0, 0,\n",
       "        0, 0, 0, 0, 0, 1, 0, 1, 0, 1, 0, 0, 0, 0, 0, 0, 1, 0, 0, 0, 0, 1,\n",
       "        0, 0, 1, 1, 0, 0, 0, 1, 0, 0, 0, 0, 0, 0],\n",
       "       [0, 0, 1, 0, 0, 0, 0, 0, 0, 0, 1, 0, 1, 0, 0, 0, 1, 0, 0, 1, 0, 0,\n",
       "        0, 1, 1, 0, 0, 0, 1, 0, 1, 0, 0, 0, 0, 0, 0, 0, 0, 0, 1, 0, 0, 0,\n",
       "        1, 0, 0, 0, 0, 0, 1, 0, 1, 0, 0, 0, 0, 0],\n",
       "       [0, 1, 0, 1, 0, 0, 0, 0, 0, 0, 0, 0, 0, 0, 0, 1, 0, 0, 0, 0, 0, 0,\n",
       "        0, 0, 0, 0, 0, 0, 1, 0, 0, 0, 0, 0, 0, 0, 1, 0, 0, 0, 1, 0, 0, 0,\n",
       "        0, 0, 0, 0, 0, 0, 0, 0, 0, 0, 1, 1, 0, 0],\n",
       "       [0, 0, 0, 0, 0, 0, 0, 0, 0, 1, 0, 0, 0, 0, 0, 0, 0, 1, 0, 0, 0, 0,\n",
       "        0, 0, 0, 0, 0, 0, 1, 0, 0, 0, 1, 0, 1, 0, 0, 0, 0, 0, 0, 1, 0, 0,\n",
       "        0, 0, 0, 0, 0, 0, 0, 0, 0, 0, 0, 0, 0, 0],\n",
       "       [0, 0, 0, 0, 0, 0, 1, 0, 0, 1, 0, 0, 0, 0, 1, 0, 0, 0, 1, 0, 0, 0,\n",
       "        1, 0, 0, 0, 0, 0, 1, 0, 0, 0, 0, 0, 1, 1, 0, 0, 0, 0, 0, 0, 0, 0,\n",
       "        0, 0, 0, 0, 0, 0, 0, 0, 0, 0, 0, 0, 0, 0]], dtype=int64)"
      ]
     },
     "execution_count": 140,
     "metadata": {},
     "output_type": "execute_result"
    }
   ],
   "source": [
    "from sklearn.feature_extraction.text import CountVectorizer\n",
    "\n",
    "count = CountVectorizer()\n",
    "count_matrix = count.fit_transform(dataset['bag_of_words'])\n",
    "print(count.get_feature_names())\n",
    "count_matrix.toarray()"
   ]
  },
  {
   "cell_type": "code",
   "execution_count": 138,
   "metadata": {},
   "outputs": [
    {
     "data": {
      "text/plain": [
       "0      무한도전\n",
       "1       런닝맨\n",
       "2     스카이캐슬\n",
       "3     해피투게더\n",
       "4    나혼자 산다\n",
       "5       윤식당\n",
       "6    꽃보다 할배\n",
       "Name: title, dtype: object"
      ]
     },
     "execution_count": 138,
     "metadata": {},
     "output_type": "execute_result"
    }
   ],
   "source": [
    "indices = pd.Series(dataset.title)\n",
    "indices"
   ]
  },
  {
   "cell_type": "code",
   "execution_count": 131,
   "metadata": {},
   "outputs": [
    {
     "data": {
      "text/plain": [
       "array([[ 1.        ,  0.25      ,  0.        ,  0.2773501 ,  0.11785113,\n",
       "         0.13608276,  0.11785113],\n",
       "       [ 0.25      ,  1.        ,  0.        ,  0.13867505,  0.08838835,\n",
       "         0.20412415,  0.08838835],\n",
       "       [ 0.        ,  0.        ,  1.        ,  0.        ,  0.        ,\n",
       "         0.        ,  0.        ],\n",
       "       [ 0.2773501 ,  0.13867505,  0.        ,  1.        ,  0.19611614,\n",
       "         0.1132277 ,  0.09805807],\n",
       "       [ 0.11785113,  0.08838835,  0.        ,  0.19611614,  1.        ,\n",
       "         0.14433757,  0.125     ],\n",
       "       [ 0.13608276,  0.20412415,  0.        ,  0.1132277 ,  0.14433757,\n",
       "         1.        ,  0.4330127 ],\n",
       "       [ 0.11785113,  0.08838835,  0.        ,  0.09805807,  0.125     ,\n",
       "         0.4330127 ,  1.        ]])"
      ]
     },
     "execution_count": 131,
     "metadata": {},
     "output_type": "execute_result"
    }
   ],
   "source": [
    "from sklearn.metrics.pairwise import cosine_similarity\n",
    "\n",
    "cosine_sim = cosine_similarity(count_matrix, count_matrix)1\n",
    "cosine_sim"
   ]
  },
  {
   "cell_type": "code",
   "execution_count": 129,
   "metadata": {},
   "outputs": [
    {
     "data": {
      "text/plain": [
       "array([[ 0.        ,  0.        ,  0.        ,  0.        ,  0.        ,\n",
       "         0.        ,  0.        ,  0.        ,  0.37510424,  0.        ,\n",
       "         0.        ,  0.        ,  0.        ,  0.        ,  0.        ,\n",
       "         0.        ,  0.31136873,  0.        ,  0.        ,  0.        ,\n",
       "         0.        ,  0.        ,  0.        ,  0.        ,  0.        ,\n",
       "         0.        ,  0.37510424,  0.        ,  0.17818105,  0.        ,\n",
       "         0.26614767,  0.        ,  0.        ,  0.        ,  0.        ,\n",
       "         0.        ,  0.        ,  0.        ,  0.        ,  0.        ,\n",
       "         0.        ,  0.        ,  0.37510424,  0.        ,  0.        ,\n",
       "         0.37510424,  0.        ,  0.        ,  0.        ,  0.        ,\n",
       "         0.        ,  0.        ,  0.        ,  0.31136873,  0.        ,\n",
       "         0.        ,  0.        ,  0.37510424],\n",
       "       [ 0.26624424,  0.        ,  0.        ,  0.        ,  0.        ,\n",
       "         0.        ,  0.        ,  0.26624424,  0.        ,  0.        ,\n",
       "         0.        ,  0.        ,  0.        ,  0.26624424,  0.        ,\n",
       "         0.        ,  0.        ,  0.        ,  0.        ,  0.        ,\n",
       "         0.26624424,  0.26624424,  0.        ,  0.        ,  0.        ,\n",
       "         0.26624424,  0.        ,  0.        ,  0.12647065,  0.        ,\n",
       "         0.18890824,  0.        ,  0.        ,  0.26624424,  0.        ,\n",
       "         0.        ,  0.        ,  0.26624424,  0.        ,  0.26624424,\n",
       "         0.        ,  0.22100558,  0.        ,  0.        ,  0.        ,\n",
       "         0.        ,  0.        ,  0.        ,  0.26624424,  0.26624424,\n",
       "         0.        ,  0.        ,  0.        ,  0.22100558,  0.        ,\n",
       "         0.        ,  0.26624424,  0.        ],\n",
       "       [ 0.        ,  0.        ,  0.        ,  0.        ,  0.30151134,\n",
       "         0.30151134,  0.        ,  0.        ,  0.        ,  0.        ,\n",
       "         0.        ,  0.30151134,  0.        ,  0.        ,  0.        ,\n",
       "         0.        ,  0.        ,  0.        ,  0.        ,  0.        ,\n",
       "         0.        ,  0.        ,  0.        ,  0.        ,  0.        ,\n",
       "         0.        ,  0.        ,  0.30151134,  0.        ,  0.30151134,\n",
       "         0.        ,  0.30151134,  0.        ,  0.        ,  0.        ,\n",
       "         0.        ,  0.        ,  0.        ,  0.30151134,  0.        ,\n",
       "         0.        ,  0.        ,  0.        ,  0.30151134,  0.        ,\n",
       "         0.        ,  0.30151134,  0.30151134,  0.        ,  0.        ,\n",
       "         0.        ,  0.30151134,  0.        ,  0.        ,  0.        ,\n",
       "         0.        ,  0.        ,  0.        ],\n",
       "       [ 0.        ,  0.        ,  0.30005336,  0.        ,  0.        ,\n",
       "         0.        ,  0.        ,  0.        ,  0.        ,  0.        ,\n",
       "         0.30005336,  0.        ,  0.30005336,  0.        ,  0.        ,\n",
       "         0.        ,  0.24907006,  0.        ,  0.        ,  0.30005336,\n",
       "         0.        ,  0.        ,  0.        ,  0.30005336,  0.30005336,\n",
       "         0.        ,  0.        ,  0.        ,  0.14253057,  0.        ,\n",
       "         0.21289683,  0.        ,  0.        ,  0.        ,  0.        ,\n",
       "         0.        ,  0.        ,  0.        ,  0.        ,  0.        ,\n",
       "         0.24907006,  0.        ,  0.        ,  0.        ,  0.30005336,\n",
       "         0.        ,  0.        ,  0.        ,  0.        ,  0.        ,\n",
       "         0.30005336,  0.        ,  0.30005336,  0.        ,  0.        ,\n",
       "         0.        ,  0.        ,  0.        ],\n",
       "       [ 0.        ,  0.38028906,  0.        ,  0.38028906,  0.        ,\n",
       "         0.        ,  0.        ,  0.        ,  0.        ,  0.        ,\n",
       "         0.        ,  0.        ,  0.        ,  0.        ,  0.        ,\n",
       "         0.38028906,  0.        ,  0.        ,  0.        ,  0.        ,\n",
       "         0.        ,  0.        ,  0.        ,  0.        ,  0.        ,\n",
       "         0.        ,  0.        ,  0.        ,  0.18064393,  0.        ,\n",
       "         0.        ,  0.        ,  0.        ,  0.        ,  0.        ,\n",
       "         0.        ,  0.38028906,  0.        ,  0.        ,  0.        ,\n",
       "         0.31567258,  0.        ,  0.        ,  0.        ,  0.        ,\n",
       "         0.        ,  0.        ,  0.        ,  0.        ,  0.        ,\n",
       "         0.        ,  0.        ,  0.        ,  0.        ,  0.38028906,\n",
       "         0.38028906,  0.        ,  0.        ],\n",
       "       [ 0.        ,  0.        ,  0.        ,  0.        ,  0.        ,\n",
       "         0.        ,  0.        ,  0.        ,  0.        ,  0.40063995,\n",
       "         0.        ,  0.        ,  0.        ,  0.        ,  0.        ,\n",
       "         0.        ,  0.        ,  0.4826488 ,  0.        ,  0.        ,\n",
       "         0.        ,  0.        ,  0.        ,  0.        ,  0.        ,\n",
       "         0.        ,  0.        ,  0.        ,  0.22926659,  0.        ,\n",
       "         0.        ,  0.        ,  0.4826488 ,  0.        ,  0.40063995,\n",
       "         0.        ,  0.        ,  0.        ,  0.        ,  0.        ,\n",
       "         0.        ,  0.40063995,  0.        ,  0.        ,  0.        ,\n",
       "         0.        ,  0.        ,  0.        ,  0.        ,  0.        ,\n",
       "         0.        ,  0.        ,  0.        ,  0.        ,  0.        ,\n",
       "         0.        ,  0.        ,  0.        ],\n",
       "       [ 0.        ,  0.        ,  0.        ,  0.        ,  0.        ,\n",
       "         0.        ,  0.38913962,  0.        ,  0.        ,  0.32301931,\n",
       "         0.        ,  0.        ,  0.        ,  0.        ,  0.38913962,\n",
       "         0.        ,  0.        ,  0.        ,  0.38913962,  0.        ,\n",
       "         0.        ,  0.        ,  0.38913962,  0.        ,  0.        ,\n",
       "         0.        ,  0.        ,  0.        ,  0.1848481 ,  0.        ,\n",
       "         0.        ,  0.        ,  0.        ,  0.        ,  0.32301931,\n",
       "         0.38913962,  0.        ,  0.        ,  0.        ,  0.        ,\n",
       "         0.        ,  0.        ,  0.        ,  0.        ,  0.        ,\n",
       "         0.        ,  0.        ,  0.        ,  0.        ,  0.        ,\n",
       "         0.        ,  0.        ,  0.        ,  0.        ,  0.        ,\n",
       "         0.        ,  0.        ,  0.        ]])"
      ]
     },
     "execution_count": 129,
     "metadata": {},
     "output_type": "execute_result"
    }
   ],
   "source": [
    "from sklearn.feature_extraction.text import TfidfVectorizer\n",
    "\n",
    "tfidf_vector = TfidfVectorizer()\n",
    "tfidf_matrix = tfidf_vector.fit_transform(dataset['bag_of_words'])\n",
    "tfidf_matrix.toarray()"
   ]
  },
  {
   "cell_type": "code",
   "execution_count": 85,
   "metadata": {},
   "outputs": [
    {
     "data": {
      "text/plain": [
       "array([[ 1.        ,  0.25      ,  0.        ,  0.2773501 ,  0.11785113,\n",
       "         0.13608276,  0.11785113],\n",
       "       [ 0.25      ,  1.        ,  0.        ,  0.13867505,  0.08838835,\n",
       "         0.20412415,  0.08838835],\n",
       "       [ 0.        ,  0.        ,  1.        ,  0.        ,  0.        ,\n",
       "         0.        ,  0.        ],\n",
       "       [ 0.2773501 ,  0.13867505,  0.        ,  1.        ,  0.19611614,\n",
       "         0.1132277 ,  0.09805807],\n",
       "       [ 0.11785113,  0.08838835,  0.        ,  0.19611614,  1.        ,\n",
       "         0.14433757,  0.125     ],\n",
       "       [ 0.13608276,  0.20412415,  0.        ,  0.1132277 ,  0.14433757,\n",
       "         1.        ,  0.4330127 ],\n",
       "       [ 0.11785113,  0.08838835,  0.        ,  0.09805807,  0.125     ,\n",
       "         0.4330127 ,  1.        ]])"
      ]
     },
     "execution_count": 85,
     "metadata": {},
     "output_type": "execute_result"
    }
   ],
   "source": [
    "from sklearn.metrics.pairwise import cosine_similarity\n",
    "\n",
    "cosine_sim = cosine_similarity(tfidf_matrix, tfidf_matrix)\n",
    "cosine_sim"
   ]
  },
  {
   "cell_type": "code",
   "execution_count": 135,
   "metadata": {},
   "outputs": [],
   "source": [
    "\n",
    "indices = pd.Series(dataset.title)\n",
    "\n",
    "def recommendations(title, cosine_sim = cosine_sim):\n",
    "    recommended_movies = []\n",
    "    \n",
    "    idx = indices[indices == title].index[0]\n",
    "\n",
    "    score_series = pd.Series(cosine_sim[idx]).sort_values(ascending = False)\n",
    "\n",
    "    top_3_indexes = list(score_series.iloc[1:4].index)\n",
    "    \n",
    "    for i in top_3_indexes:\n",
    "        recommended_movies.append(list(dataset.title)[i])\n",
    "        \n",
    "    return recommended_movies"
   ]
  },
  {
   "cell_type": "code",
   "execution_count": 134,
   "metadata": {},
   "outputs": [
    {
     "data": {
      "text/plain": [
       "['무한도전', '런닝맨', '스카이캐슬', '해피투게더', '나혼자 산다', '윤식당', '꽃보다 할배']"
      ]
     },
     "execution_count": 134,
     "metadata": {},
     "output_type": "execute_result"
    }
   ],
   "source": [
    "list(dataset.title)"
   ]
  },
  {
   "cell_type": "code",
   "execution_count": 136,
   "metadata": {},
   "outputs": [
    {
     "data": {
      "text/plain": [
       "['꽃보다 할배', '런닝맨', '나혼자 산다']"
      ]
     },
     "execution_count": 136,
     "metadata": {},
     "output_type": "execute_result"
    }
   ],
   "source": [
    "recommendations('윤식당')"
   ]
  },
  {
   "cell_type": "code",
   "execution_count": 137,
   "metadata": {},
   "outputs": [
    {
     "data": {
      "text/plain": [
       "['해피투게더', '런닝맨', '윤식당']"
      ]
     },
     "execution_count": 137,
     "metadata": {},
     "output_type": "execute_result"
    }
   ],
   "source": [
    "recommendations('무한도전')"
   ]
  },
  {
   "cell_type": "code",
   "execution_count": null,
   "metadata": {},
   "outputs": [],
   "source": []
  }
 ],
 "metadata": {
  "kernelspec": {
   "display_name": "Python 3",
   "language": "python",
   "name": "python3"
  },
  "language_info": {
   "codemirror_mode": {
    "name": "ipython",
    "version": 3
   },
   "file_extension": ".py",
   "mimetype": "text/x-python",
   "name": "python",
   "nbconvert_exporter": "python",
   "pygments_lexer": "ipython3",
   "version": "3.5.2"
  }
 },
 "nbformat": 4,
 "nbformat_minor": 2
}
