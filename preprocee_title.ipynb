{
 "cells": [
  {
   "cell_type": "code",
   "execution_count": 1,
   "metadata": {},
   "outputs": [],
   "source": [
    "import csv\n",
    "import numpy as np\n",
    "import pandas as pd"
   ]
  },
  {
   "cell_type": "code",
   "execution_count": 5,
   "metadata": {},
   "outputs": [],
   "source": [
    "csv_reader = csv.reader(open('unique_title_dataset.csv', 'r', encoding = 'utf-8'))"
   ]
  },
  {
   "cell_type": "code",
   "execution_count": 9,
   "metadata": {},
   "outputs": [
    {
     "name": "stdout",
     "output_type": "stream",
     "text": [
      "['재미있는 낱말풀이']\n",
      "['황금의 제국']\n",
      "['도롱뇽도사와 그림자 조작단']\n",
      "['커피프린스 1호점']\n",
      "['오늘부터 엄마아빠']\n",
      "['신 도라에몽 7기']\n",
      "['스타애정촌']\n",
      "['내일은 시구왕']\n",
      "['2016 SAF 연기대상']\n",
      "['우리 아이가 달라졌어요']\n",
      "['생방송 톡! 톡! 보니 하니']\n"
     ]
    }
   ],
   "source": [
    "count = 0\n",
    "\n",
    "for line in csv_reader:\n",
    "    print(line)\n",
    "    \n",
    "    if count == 10:\n",
    "        break\n",
    "    count += 1\n",
    "\n",
    "    "
   ]
  },
  {
   "cell_type": "code",
   "execution_count": 3,
   "metadata": {},
   "outputs": [],
   "source": [
    "program_list_with_broadDate = list()\n",
    "\n",
    "for line in csv_reader:\n",
    "    if \"On-Air\" in line[0]:\n",
    "        program_list_with_broadDate.append(line[0])"
   ]
  },
  {
   "cell_type": "code",
   "execution_count": 4,
   "metadata": {},
   "outputs": [
    {
     "name": "stdout",
     "output_type": "stream",
     "text": [
      "['사랑은 방울방울 25회 (On-Air VOD 19:20 ~ )', '미운 우리 새끼 17회 (On-Air VOD 23:20 ~ )', '김제동의 톡투유 87회 (On-Air VOD 23:00 ~ )', '푸른 바다의 전설 15회 (On-Air VOD 22:00 ~ )', '순간포착 세상에 이런 일이 918회 (On-Air VOD 20:55 ~ )', '사랑은 방울방울 26회 (On-Air VOD 19:20 ~ )', '그것이 알고싶다 1059회 (On-Air VOD 23:05 ~ )', 'MBC 뉴스데스크 66회 (On-Air VOD 19:55 ~ )', '해피 선데이 - 슈퍼맨이 돌아왔다 626회 (On-Air VOD 16:50 ~ )', '무한도전 514회 (On-Air VOD 18:25 ~ )', '행복을 주는 사람 31회 (On-Air VOD 19:15 ~ )', 'MBC 뉴스데스크 62회 (On-Air VOD 19:55 ~ )', '2016 MBC 연기대상 1회 (On-Air VOD 21:30 ~ )', '역도요정 김복주  15회 (On-Air VOD 22:00 ~ )', '우리 갑순이 36회 (On-Air VOD 21:55 ~ )', '썰전 199회 (On-Air VOD 22:50 ~ )', '한끼줍쇼 12회 (On-Air VOD 22:50 ~ )', '영재 발굴단 89회 (On-Air VOD 20:55 ~ )', '화랑 3회 (On-Air VOD 22:00 ~ )', '솔로몬의 위증 6회 (On-Air VOD 20:30 ~ )', '화랑 6회 (On-Air VOD 21:55 ~ )', '역도요정 김복주  13회 (On-Air VOD 22:00 ~ )', '우리 결혼했어요 355회 (On-Air VOD 17:00 ~ )', 'MBC 뉴스데스크 60회 (On-Air VOD 19:55 ~ )', '일요일이좋다-런닝맨 464회 (On-Air VOD 18:25 ~ )', '빛나라 은수 26회 (On-Air VOD 20:25 ~ )', '월계수 양복점 신사들 37회 (On-Air VOD 19:55 ~ )', '복면가왕 1399회 (On-Air VOD 16:50 ~ )', 'JTBC 뉴스룸 62회 (On-Air VOD 21:00 ~ )', '불어라 미풍아 37회 (On-Air VOD 20:55 ~ )', '님과 함께 시즌2 - 최고의 사랑 85회 (On-Air VOD 21:30 ~ )', '팬텀싱어 8회 (On-Air VOD 20:30 ~ )', 'PD 수첩 1111회 (On-Air VOD 23:10 ~ )', '오 마이 금비 13회 (On-Air VOD 22:00 ~ )', '마이 리틀 텔레비전 82회 (On-Air VOD 23:15 ~ )', '노래 싸움 승부 11회 (On-Air VOD 20:30 ~ )', '제보자들 12회 (On-Air VOD 20:55 ~ )', 'JTBC 뉴스룸 62회 (On-Air VOD 19:55 ~ )', '2016 가요대제전 2회 (On-Air VOD 22:50 ~ )', '은밀하게 위대하게 5회 (On-Air VOD 18:45 ~ )', '꽃놀이패 18회 (On-Air VOD 16:50 ~ )', 'MBC 스페셜 728회 (On-Air VOD 23:10 ~ )', '아는 형님 57회 (On-Air VOD 23:00 ~ )', 'SBS 8시 뉴스 3857회 (On-Air VOD 20:00 ~ )', '불후의 명곡 전설을 노래하다 285회 (On-Air VOD 18:05 ~ )', '2016 가요대제전 1회 (On-Air VOD 20:55 ~ )', '비타민 655회 (On-Air VOD 20:55 ~ )', '일일 드라마 다시 첫사랑 27회 (On-Air VOD 19:50 ~ )', '본격연예 한밤 5회 (On-Air VOD 20:55 ~ )', '불어라 미풍아 38회 (On-Air VOD 20:45 ~ )', '일일 드라마 다시 첫사랑 30회 (On-Air VOD 19:50 ~ )', '황금주머니 38회 (On-Air VOD 20:55 ~ )', '백종원의 3대 천왕 66회 (On-Air VOD 18:10 ~ )', '우리 갑순이 36회 (On-Air VOD 20:45 ~ )', '리얼스토리 눈 610회 (On-Air VOD 21:30 ~ )', '사랑은 방울방울 29회 (On-Air VOD 19:20 ~ )', '낭만닥터 김사부  17회 (On-Air VOD 22:00 ~ )', '잘 먹겠습니다 22회 (On-Air VOD 21:30 ~ )', '김병만의 정글의 법칙 247회 (On-Air VOD 22:00 ~ )', 'JTBC 뉴스룸 64회 (On-Air VOD 19:55 ~ )', '백종원의 3대 천왕 67회 (On-Air VOD 18:10 ~ )', '불야성 14회 (On-Air VOD 22:00 ~ )', '미운 우리 새끼 19회 (On-Air VOD 23:20 ~ )', '일일 드라마 다시 첫사랑 29회 (On-Air VOD 19:50 ~ )', '냉장고를 부탁해 112회 (On-Air VOD 22:50 ~ )', 'JTBC 뉴스룸 66회 (On-Air VOD 19:40 ~ )', '전(錢) 국민 프로젝트 슈퍼리치 5회 (On-Air VOD 20:30 ~ )', '월계수 양복점 신사들 39회 (On-Air VOD 19:55 ~ )', '썰전 200회 (On-Air VOD 22:50 ~ )', 'JTBC 뉴스룸 (On-Air VOD 19:55 ~ )', '아버님 제가 모실게요 16회 (On-Air VOD 22:00 ~ )', 'JTBC 뉴스룸 (On-Air VOD 19:40 ~ )', '행복을 주는 사람 33회 (On-Air VOD 19:15 ~ )', '역도요정 김복주  14회 (On-Air VOD 22:00 ~ )', '해피 선데이 - 1박 2일 626회 (On-Air VOD 18:30 ~ )', '라디오스타 507회 (On-Air VOD 23:10 ~ )', '섹션TV 연예통신 859회 (On-Air VOD 15:45 ~ )', 'SBS 8시 뉴스 3855회 (On-Air VOD 20:00 ~ )', '리얼스토리 눈 612회 (On-Air VOD 21:30 ~ )', '2016 SAF 연기대상 1부 (On-Air VOD 21:00 ~ )', '빛나라 은수 25회 (On-Air VOD 20:25 ~ )', '빛나라 은수 29회 (On-Air VOD 20:25 ~ )', '행복을 주는 사람 34회 (On-Air VOD 19:15 ~ )', '불야성 13회 (On-Air VOD 22:00 ~ )', '궁금한 이야기 Y 343회 (On-Air VOD 20:55 ~ )', '말하는대로 15회 (On-Air VOD 21:30 ~ )', '생활의 달인 554회 (On-Air VOD 20:55 ~ )', 'VJ특공대 840회 (On-Air VOD 22:00 ~ )', 'MBC 뉴스데스크 64회 (On-Air VOD 19:55 ~ )', '푸른 바다의 전설 14회 (On-Air VOD 22:00 ~ )', 'SBS 8시 뉴스 (On-Air VOD 20:00 ~ )', 'JTBC 뉴스룸 58회 (On-Air VOD 19:55 ~ )', '웃찾사 174회 (On-Air VOD 23:10 ~ )', '뭉쳐야 뜬다 7회 (On-Air VOD 21:40 ~ )', '추적 60분 (On-Air VOD 23:10 ~ )', '사랑은 방울방울 27회 (On-Air VOD 19:20 ~ )', '황금주머니 36회 (On-Air VOD 20:55 ~ )', '듀엣가요제 35회 (On-Air VOD 21:30 ~ )', '빛나라 은수 28회 (On-Air VOD 20:25 ~ )', '무한도전 513회 (On-Air VOD 18:15 ~ )', '배틀 트립 33회 (On-Air VOD 22:40 ~ )', '2016 KBS 연기대상 1부 (On-Air VOD 21:15 ~ )', 'MBC 뉴스데스크 (On-Air VOD 19:55 ~ )', '불타는 청춘 89회 (On-Air VOD 23:10 ~ )', '좋은아침 4997회 (On-Air VOD 09:10 ~ )', '한끼줍쇼 11회 (On-Air VOD 22:50 ~ )', '2016 KBS 연기대상 2부 (On-Air VOD 22:55 ~ )', '일일 드라마 다시 첫사랑 28회 (On-Air VOD 19:50 ~ )', '황금주머니 37회 (On-Air VOD 20:55 ~ )', '2016 SAF 연기대상 2부 (On-Air VOD 23:00 ~ )', '해피 투게더 480회 (On-Air VOD 23:10 ~ )', '솔로몬의 위증 5회 (On-Air VOD 20:30 ~ )', 'K팝스타6 (KPOP STAR 6) 11회 (On-Air VOD 21:15 ~ )', '트릭앤트루 11회 (On-Air VOD 20:55 ~ )', '행복을 주는 사람 32회 (On-Air VOD 19:15 ~ )', '시사매거진 2580 1017회 (On-Air VOD 23:25 ~ )', '닥터고 3회 (On-Air VOD 23:10 ~ )', '아버님 제가 모실게요 15회 (On-Air VOD 22:10 ~ )', '기분 좋은 날 2459회 (On-Air VOD 09:45 ~ )', '해피 선데이 - 1박 2일 625회 (On-Air VOD 16:50 ~ )', '좋은아침 4995회 (On-Air VOD 09:10 ~ )', '연예가 중계 1653회 (On-Air VOD 21:15 ~ )', '쇼! 음악중심 536회 (On-Air VOD 15:50 ~ )', '님과 함께 시즌2 - 최고의 사랑 86회 (On-Air VOD 21:30 ~ )', '씬스틸러-드라마 전쟁 4회 (On-Air VOD 23:10 ~ )', '오 마이 금비 14회 (On-Air VOD 22:00 ~ )', '살림하는 남자들 9회 (On-Air VOD 23:10 ~ )', '사랑은 방울방울 28회 (On-Air VOD 19:20 ~ )', '황금주머니 35회 (On-Air VOD 20:55 ~ )', 'SBS 8시 뉴스 3859회 (On-Air VOD 20:00 ~ )', '화랑 5회 (On-Air VOD 22:00 ~ )', '라디오스타 508회 (On-Air VOD 23:10 ~ )', '낭만닥터 김사부  16회 (On-Air VOD 22:00 ~ )', '빛나라 은수 27회 (On-Air VOD 20:25 ~ )', '리얼스토리 눈 611회 (On-Air VOD 21:30 ~ )', '팬텀싱어 9회 (On-Air VOD 21:40 ~ )', '일일 드라마 다시 첫사랑 26회 (On-Air VOD 19:50 ~ )', '푸른 바다의 전설 13회 (On-Air VOD 22:00 ~ )', '월계수 양복점 신사들 38회 (On-Air VOD 19:55 ~ )', '불후의 명곡 전설을 노래하다 284회 (On-Air VOD 18:05 ~ )', '나 혼자 산다 188회 (On-Air VOD 23:10 ~ )', '미운 우리 새끼 18회 (On-Air VOD 23:20 ~ )', '자기야-백년손님 359회 (On-Air VOD 23:10 ~ )', '오 마이 금비 15회 (On-Air VOD 22:00 ~ )', '불타는 청춘 88회 (On-Air VOD 23:10 ~ )', '뭉쳐야 뜬다 8회 (On-Air VOD 21:40 ~ )', 'K팝스타6 (KPOP STAR 6) 11회 (On-Air VOD 22:00 ~ )', 'JTBC 뉴스룸 60회 (On-Air VOD 19:40 ~ )', '리얼스토리 눈 609회 (On-Air VOD 21:30 ~ )', '우리 결혼했어요 354회 (On-Air VOD 16:50 ~ )', 'SBS 8시 뉴스 3861회 (On-Air VOD 20:00 ~ )', '힙합의 민족2 12회 (On-Air VOD 22:50 ~ )', '자기야-백년손님 358회 (On-Air VOD 23:10 ~ )', 'KBS 뉴스9 (On-Air VOD 21:00 ~ )', '행복을 주는 사람 30회 (On-Air VOD 19:15 ~ )', '황금주머니 39회 (On-Air VOD 20:55 ~ )', '개그 콘서트 879회 (On-Air VOD 21:15 ~ )', '2016 KBS 가요대축제 1부 (On-Air VOD 20:30 ~ )', '김병만의 정글의 법칙 246회 (On-Air VOD 22:00 ~ )', '대국민 토크쇼 안녕하세요 306회 (On-Air VOD 23:10 ~ )', '해피 선데이 - 슈퍼맨이 돌아왔다 625회 (On-Air VOD 16:50 ~ )', '다큐멘터리 3일 482회 (On-Air VOD 22:40 ~ )']\n",
      "162\n"
     ]
    }
   ],
   "source": [
    "print(program_list_with_broadDate)\n",
    "print(len(program_list_with_broadDate))"
   ]
  },
  {
   "cell_type": "code",
   "execution_count": 6,
   "metadata": {},
   "outputs": [
    {
     "name": "stdout",
     "output_type": "stream",
     "text": [
      "2640\n"
     ]
    }
   ],
   "source": [
    "count = 0\n",
    "for line in csv_reader:\n",
    "    count += 1\n",
    "    \n",
    "print(count)"
   ]
  },
  {
   "cell_type": "code",
   "execution_count": 9,
   "metadata": {},
   "outputs": [
    {
     "name": "stdout",
     "output_type": "stream",
     "text": [
      "['사랑은 방울방울', '미운 우리 새끼', '김제동의 톡투유', '푸른 바다의 전설', '순간포착 세상에 이런 일이', '사랑은 방울방울', '그것이 알고싶다', 'MBC 뉴스데스크', '해피 선데이 - 슈퍼맨이 돌아왔다', '무한도전', '행복을 주는 사람', 'MBC 뉴스데스크', '2016 MBC 연기대상', '역도요정 김복주', '우리 갑순이', '썰전', '한끼줍쇼', '영재 발굴단', '화랑', '솔로몬의 위증', '화랑', '역도요정 김복주', '우리 결혼했어요', 'MBC 뉴스데스크', '일요일이좋다-런닝맨', '빛나라 은수', '월계수 양복점 신사들', '복면가왕', 'JTBC 뉴스룸', '불어라 미풍아', '님과 함께 시즌2 - 최고의 사랑', '팬텀싱어', 'PD 수첩', '오 마이 금비', '마이 리틀 텔레비전', '노래 싸움 승부', '제보자들', 'JTBC 뉴스룸', '2016 가요대제전', '은밀하게 위대하게', '꽃놀이패', 'MBC 스페셜', '아는 형님', 'SBS 8시 뉴스', '불후의 명곡 전설을 노래하다', '2016 가요대제전', '비타민', '일일 드라마 다시 첫사랑', '본격연예 한밤', '불어라 미풍아', '일일 드라마 다시 첫사랑', '황금주머니', '백종원의 3대 천왕', '우리 갑순이', '리얼스토리 눈', '사랑은 방울방울', '낭만닥터 김사부', '잘 먹겠습니다', '김병만의 정글의 법칙', 'JTBC 뉴스룸', '백종원의 3대 천왕', '불야성', '미운 우리 새끼', '일일 드라마 다시 첫사랑', '냉장고를 부탁해', 'JTBC 뉴스룸', '전(錢) 국민 프로젝트 슈퍼리치', '월계수 양복점 신사들', '썰전', 'JTBC', '아버님 제가 모실게요', 'JTBC', '행복을 주는 사람', '역도요정 김복주', '해피 선데이 - 1박 2일', '라디오스타', '섹션TV 연예통신', 'SBS 8시 뉴스', '리얼스토리 눈', '2016 SAF 연기대상', '빛나라 은수', '빛나라 은수', '행복을 주는 사람', '불야성', '궁금한 이야기 Y', '말하는대로', '생활의 달인', 'VJ특공대', 'MBC 뉴스데스크', '푸른 바다의 전설', 'SBS 8시', 'JTBC 뉴스룸', '웃찾사', '뭉쳐야 뜬다', '추적', '사랑은 방울방울', '황금주머니', '듀엣가요제', '빛나라 은수', '무한도전', '배틀 트립', '2016 KBS 연기대상', 'MBC', '불타는 청춘', '좋은아침', '한끼줍쇼', '2016 KBS 연기대상', '일일 드라마 다시 첫사랑', '황금주머니', '2016 SAF 연기대상', '해피 투게더', '솔로몬의 위증', 'K팝스타6 (KPOP STAR 6)', '트릭앤트루', '행복을 주는 사람', '시사매거진 2580', '닥터고', '아버님 제가 모실게요', '기분 좋은 날', '해피 선데이 - 1박 2일', '좋은아침', '연예가 중계', '쇼! 음악중심', '님과 함께 시즌2 - 최고의 사랑', '씬스틸러-드라마 전쟁', '오 마이 금비', '살림하는 남자들', '사랑은 방울방울', '황금주머니', 'SBS 8시 뉴스', '화랑', '라디오스타', '낭만닥터 김사부', '빛나라 은수', '리얼스토리 눈', '팬텀싱어', '일일 드라마 다시 첫사랑', '푸른 바다의 전설', '월계수 양복점 신사들', '불후의 명곡 전설을 노래하다', '나 혼자 산다', '미운 우리 새끼', '자기야-백년손님', '오 마이 금비', '불타는 청춘', '뭉쳐야 뜬다', 'K팝스타6 (KPOP STAR 6)', 'JTBC 뉴스룸', '리얼스토리 눈', '우리 결혼했어요', 'SBS 8시 뉴스', '힙합의 민족2', '자기야-백년손님', 'KBS', '행복을 주는 사람', '황금주머니', '개그 콘서트', '2016 KBS 가요대축제', '김병만의 정글의 법칙', '대국민 토크쇼 안녕하세요', '해피 선데이 - 슈퍼맨이 돌아왔다', '다큐멘터리 3일']\n",
      "162\n",
      "---------------------\n",
      "['추적', '낭만닥터 김사부', '기분 좋은 날', '무한도전', '일요일이좋다-런닝맨', 'SBS 8시 뉴스', '김병만의 정글의 법칙', 'K팝스타6 (KPOP STAR 6)', '은밀하게 위대하게', 'MBC', '말하는대로', '듀엣가요제', '미운 우리 새끼', '쇼! 음악중심', 'MBC 스페셜', '잘 먹겠습니다', '전(錢) 국민 프로젝트 슈퍼리치', '닥터고', 'JTBC 뉴스룸', '뭉쳐야 뜬다', '라디오스타', '순간포착 세상에 이런 일이', '사랑은 방울방울', 'MBC 뉴스데스크', '김제동의 톡투유', '2016 SAF 연기대상', 'JTBC', '2016 가요대제전', '본격연예 한밤', '2016 KBS 가요대축제', '냉장고를 부탁해', '2016 KBS 연기대상', '복면가왕', '2016 MBC 연기대상', '좋은아침', '황금주머니', '일일 드라마 다시 첫사랑', '행복을 주는 사람', '아버님 제가 모실게요', '썰전', '다큐멘터리 3일', '푸른 바다의 전설', '백종원의 3대 천왕', '화랑', '개그 콘서트', '한끼줍쇼', '살림하는 남자들', '그것이 알고싶다', '웃찾사', '대국민 토크쇼 안녕하세요', '꽃놀이패', '배틀 트립', '힙합의 민족2', '시사매거진 2580', '님과 함께 시즌2 - 최고의 사랑', '제보자들', '영재 발굴단', '솔로몬의 위증', '씬스틸러-드라마 전쟁', '불야성', '우리 결혼했어요', 'VJ특공대', 'PD 수첩', '오 마이 금비', '노래 싸움 승부', '트릭앤트루', '해피 선데이 - 슈퍼맨이 돌아왔다', 'KBS', '나 혼자 산다', '불후의 명곡 전설을 노래하다', '마이 리틀 텔레비전', '아는 형님', '자기야-백년손님', '비타민', '해피 선데이 - 1박 2일', 'SBS 8시', '리얼스토리 눈', '불타는 청춘', '생활의 달인', '우리 갑순이', '역도요정 김복주', '연예가 중계', '섹션TV 연예통신', '월계수 양복점 신사들', '불어라 미풍아', '팬텀싱어', '빛나라 은수', '궁금한 이야기 Y', '해피 투게더']\n",
      "89\n"
     ]
    }
   ],
   "source": [
    "title_list = []\n",
    "for title in program_list_with_broadDate:\n",
    "    splited_title = title.split()\n",
    "    origin_title = \"\"\n",
    "    \n",
    "    for i in range(0, len(splited_title)):\n",
    "        if \"(On-Air\" in splited_title[i]:\n",
    "            for j in range(0, i-1):\n",
    "                origin_title += splited_title[j]\n",
    "                if j < i-2:\n",
    "                    origin_title += \" \"\n",
    "            title_list.append(origin_title)\n",
    "            break\n",
    "print(title_list)\n",
    "print(len(title_list))\n",
    "print(\"---------------------\")\n",
    "print(list(set(title_list)))\n",
    "print(len(list(set(title_list))))"
   ]
  },
  {
   "cell_type": "code",
   "execution_count": null,
   "metadata": {},
   "outputs": [],
   "source": []
  },
  {
   "cell_type": "code",
   "execution_count": null,
   "metadata": {},
   "outputs": [],
   "source": []
  }
 ],
 "metadata": {
  "kernelspec": {
   "display_name": "Python 3",
   "language": "python",
   "name": "python3"
  },
  "language_info": {
   "codemirror_mode": {
    "name": "ipython",
    "version": 3
   },
   "file_extension": ".py",
   "mimetype": "text/x-python",
   "name": "python",
   "nbconvert_exporter": "python",
   "pygments_lexer": "ipython3",
   "version": "3.5.2"
  }
 },
 "nbformat": 4,
 "nbformat_minor": 2
}
